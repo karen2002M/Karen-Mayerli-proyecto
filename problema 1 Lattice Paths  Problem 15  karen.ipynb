{
 "cells": [
  {
   "cell_type": "code",
   "execution_count": 2,
   "id": "initial_id",
   "metadata": {
    "collapsed": true,
    "ExecuteTime": {
     "start_time": "2023-09-07T01:58:44.409287Z"
    }
   },
   "outputs": [],
   "source": [
    "# Karen Mayerli 202103058 \n",
    "\n",
    "# Problema 1  Lattice Paths problem 15 \n",
    "\n",
    "# Starting in the top left corner of a 2 x 2 grid, and only being able to move to the right and down, there are exactly 6 routes to the bottom How many such routes are there through a 20 x 20 "
   ]
  },
  {
   "cell_type": "code",
   "execution_count": 2,
   "outputs": [
    {
     "name": "stdout",
     "output_type": "stream",
     "text": [
      "137846528820\n"
     ]
    }
   ],
   "source": [
    "from math import factorial  # se importo de la libreria math la función factorial\n",
    "def caminos(n,k): # se definio la funcion caminos para una cuadricula de nxk \n",
    "    return factorial(n+k)//(factorial(n)*factorial(k)) # aquí la formula de combinatoria que calcula el numero de rutas moviendose solo a la dercaga y hacia abajo en una cuadricula de nxk \n",
    "print(caminos(20,20)) # y aqui imprimir el resultado para una cuadricula de 20x20 "
   ],
   "metadata": {
    "collapsed": false,
    "ExecuteTime": {
     "end_time": "2023-09-09T03:39:50.897077600Z",
     "start_time": "2023-09-09T03:39:50.852518600Z"
    }
   },
   "id": "dcbf0bc64b38fbf0"
  }
 ],
 "metadata": {
  "kernelspec": {
   "display_name": "Python 3",
   "language": "python",
   "name": "python3"
  },
  "language_info": {
   "codemirror_mode": {
    "name": "ipython",
    "version": 2
   },
   "file_extension": ".py",
   "mimetype": "text/x-python",
   "name": "python",
   "nbconvert_exporter": "python",
   "pygments_lexer": "ipython2",
   "version": "2.7.6"
  }
 },
 "nbformat": 4,
 "nbformat_minor": 5
}
